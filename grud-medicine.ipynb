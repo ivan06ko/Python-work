{
 "cells": [
  {
   "cell_type": "code",
   "execution_count": null,
   "id": "5d964164",
   "metadata": {},
   "outputs": [],
   "source": [
    "meds = [\n",
    "    {\"назва\": \"Амоксицилін\", \"кількість\": 120, \"категорія\": \"antibiotic\", \"температура\": 8.0},\n",
    "    {\"назва\": \"Вітамін C\", \"кількість\": \"50\", \"категорія\": \"vitamin\", \"температура\": 22.5},\n",
    "    {\"назва\": \"COVID-Vac\", \"кількість\": 300, \"категорія\": \"vaccine\", \"температура\": -2.0},\n",
    "    {\"назва\": \"Ноотроп\", \"кількість\": 200, \"категорія\": \"nootrop\", \"температура\": 18.0}\n",
    "]\n",
    "\n",
    "for m in meds:\n",
    "    if not isinstance(m[\"кількість\"], int) or not isinstance(m[\"температура\"], (int, float)):\n",
    "        print(f\"{m['назва']}: Помилка даних\")\n",
    "        continue\n",
    "#prototype of medicine storage system \n",
    "\n",
    "if m[\"температура\"] < 5: temp = \"надто холодно\"\n",
    "elif m[\"температура\"] > 25: temp = \"надто жарко\"\n",
    "else:temp = \"температура в нормі\"\n",
    "\n",
    "match m[\"категорія\"]:\n",
    "    case \"antibiotic\": meow = \"рецептурний препаратик\"\n",
    "    case \"vitamin\": meow = \"Вільний продаж\"\n",
    "    case \"vaccine\": meow = \"потребує бути в спеціальних умовах прожиття\"\n",
    "    case _: meow = \"Решта\"\n",
    "\n",
    "print(f\"{m['назва']}: {meow}, {temp}\")\n",
    "\n",
    "#code is good for NOT job application. "
   ]
  }
 ],
 "metadata": {
  "language_info": {
   "name": "python"
  }
 },
 "nbformat": 4,
 "nbformat_minor": 5
}
