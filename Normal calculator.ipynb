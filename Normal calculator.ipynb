{
 "cells": [
  {
   "cell_type": "code",
   "execution_count": null,
   "id": "4ed26e7f",
   "metadata": {},
   "outputs": [
    {
     "name": "stdout",
     "output_type": "stream",
     "text": [
      "Результат: 12.0\n"
     ]
    }
   ],
   "source": [
    "def calc(expr):  # calc приймає рядок expr.\n",
    "    tokens = list(expr.replace(\" \", \"\")) \n",
    "    def helper():\n",
    "        stack = []\n",
    "        num = \"\"\n",
    "        while tokens:\n",
    "            t = tokens.pop(0)\n",
    "            if t.isdigit() or t == '.': #Збирає числа в одне число.\n",
    "                num += t\n",
    "            else:\n",
    "                if num:\n",
    "                    stack.append(float(num))\n",
    "                    num = \"\"\n",
    "                if t in \"+-*/\":\n",
    "                    while len(stack) >= 3 and stack[-2] in \"*/\" and t in \"+-\":\n",
    "                        b, op, a = stack.pop(), stack.pop(), stack.pop()\n",
    "                        stack.append(a*b if op == '*' else a/b)\n",
    "                    stack.append(t)\n",
    "                elif t == '(':\n",
    "                    stack.append(helper())\n",
    "                elif t == ')':\n",
    "                    break\n",
    "        if num:\n",
    "            stack.append(float(num))\n",
    "        while len(stack) >= 3:\n",
    "            a, op, b = stack.pop(0), stack.pop(0), stack.pop(0)\n",
    "            stack.insert(0, a+b if op == '+' else a-b if op == '-' else a*b if op == '*' else a/b)\n",
    "        return stack[0]\n",
    "    return helper()\n",
    "\n",
    "# ПУСК\n",
    "print(\"Результат:\", calc(input(\"Введіть вираз: \")))"
   ]
  }
 ],
 "metadata": {
  "kernelspec": {
   "display_name": "Python 3",
   "language": "python",
   "name": "python3"
  },
  "language_info": {
   "codemirror_mode": {
    "name": "ipython",
    "version": 3
   },
   "file_extension": ".py",
   "mimetype": "text/x-python",
   "name": "python",
   "nbconvert_exporter": "python",
   "pygments_lexer": "ipython3",
   "version": "3.13.2"
  }
 },
 "nbformat": 4,
 "nbformat_minor": 5
}
