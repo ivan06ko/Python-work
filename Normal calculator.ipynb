{
 "cells": [
  {
   "cell_type": "code",
   "execution_count": 6,
   "id": "4ed26e7f",
   "metadata": {},
   "outputs": [
    {
     "name": "stdout",
     "output_type": "stream",
     "text": [
      "Результат: 6.0\n"
     ]
    }
   ],
   "source": [
    "def calc(expr):  # calc приймає рядок expr.\n",
    "    s = expr.replace(\" \", \"\")  # прибирає пробіли\n",
    "    vals, ops = [], []         \n",
    "    prec = {'+':1, '-':1, '*':2, '/':2}  # пріоритети\n",
    "\n",
    "    def apply():  \n",
    "        b, a, op = vals.pop(), vals.pop(), ops.pop()\n",
    "        vals.append(a+b if op=='+' else a-b if op=='-' else a*b if op=='*' else a/b)\n",
    "\n",
    "    i, n, prev = 0, len(s), None\n",
    "    while i < n:\n",
    "        c = s[i]\n",
    "        if c.isdigit() or c == '.' or (c == '-' and prev in (None, '(', '+', '-', '*', '/')):\n",
    "            j = i + 1\n",
    "            while j < n and (s[j].isdigit() or s[j] == '.'):\n",
    "                j += 1\n",
    "            vals.append(float(s[i:j]))\n",
    "            prev, i = 'num', j\n",
    "            continue\n",
    "\n",
    "        if c == '(':\n",
    "            ops.append(c)\n",
    "            prev = '('\n",
    "        elif c == ')':\n",
    "            while ops and ops[-1] != '(':\n",
    "                apply()\n",
    "            ops.pop()  \n",
    "            prev = ')'\n",
    "\n",
    "        elif c in prec:\n",
    "            while ops and ops[-1] in prec and prec[ops[-1]] >= prec[c]:\n",
    "                apply()\n",
    "            ops.append(c)\n",
    "            prev = 'op'\n",
    "\n",
    "        i += 1\n",
    "\n",
    "    # Згортаємо залишок\n",
    "    while ops:\n",
    "        apply()\n",
    "\n",
    "    return vals[-1]\n",
    "# ПУСК\n",
    "print(\"Результат:\", calc(input(\"Введіть вираз: \")))\n"
   ]
  }
 ],
 "metadata": {
  "kernelspec": {
   "display_name": "Python 3",
   "language": "python",
   "name": "python3"
  },
  "language_info": {
   "codemirror_mode": {
    "name": "ipython",
    "version": 3
   },
   "file_extension": ".py",
   "mimetype": "text/x-python",
   "name": "python",
   "nbconvert_exporter": "python",
   "pygments_lexer": "ipython3",
   "version": "3.13.2"
  }
 },
 "nbformat": 4,
 "nbformat_minor": 5
}
