{
 "cells": [
  {
   "cell_type": "code",
   "execution_count": null,
   "id": "5e844bb3",
   "metadata": {},
   "outputs": [
    {
     "name": "stdout",
     "output_type": "stream",
     "text": [
      "Hello, world...\n"
     ]
    }
   ],
   "source": [
    "print(\"Hello, world...\")\n",
    "\n",
    "# for the god sake, why i did extra line here?"
   ]
  },
  {
   "cell_type": "code",
   "execution_count": null,
   "id": "90cad30b",
   "metadata": {},
   "outputs": [],
   "source": []
  }
 ],
 "metadata": {
  "kernelspec": {
   "display_name": "Python 3",
   "language": "python",
   "name": "python3"
  },
  "language_info": {
   "codemirror_mode": {
    "name": "ipython",
    "version": 3
   },
   "file_extension": ".py",
   "mimetype": "text/x-python",
   "name": "python",
   "nbconvert_exporter": "python",
   "pygments_lexer": "ipython3",
   "version": "3.13.2"
  }
 },
 "nbformat": 4,
 "nbformat_minor": 5
}
