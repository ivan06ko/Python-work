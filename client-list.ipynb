{
 "cells": [
  {
   "cell_type": "code",
   "execution_count": null,
   "id": "a5855b92",
   "metadata": {},
   "outputs": [
    {
     "name": "stdout",
     "output_type": "stream",
     "text": [
      "Сетлер → Дрібно, Працювати без питань\n",
      "Привид 3ої дивізії → Середнє, Перевірити документи\n",
      "Олег → Big Boss, У чорний список\n",
      "Рамштайн → Фальшифка, Невідомий статус\n",
      "Іван → Середнє, Перевірити документи\n"
     ]
    }
   ],
   "source": [
    "# Clients from the anywhere of the different dimenisions\n",
    "\n",
    "clients = [\n",
    "    {\"ім'я\": \"Сетлер\", \"сума угоди\": 50, \"статус перевірки\": \"clean\"},\n",
    "    {\"ім'я\": \"Привид 3ої дивізії\", \"сума угоди\": 700, \"статус перевірки\": \"suspicious\"},\n",
    "    {\"ім'я\": \"Олег\", \"сума угоди\": 1500, \"статус перевірки\": \"fraud\"},\n",
    "    {\"ім'я\": \"Рамштайн\", \"сума угоди\": \"сто\", \"статус перевірки\": \"unknown\"},\n",
    "    {\"ім'я\": \"Іван\", \"сума угоди\": 350, \"статус перевірки\": \"suspicious\"},\n",
    "]\n",
    "\n",
    "result = []\n",
    "\n",
    "for client in clients:\n",
    "    name = client[\"ім'я\"]\n",
    "    amount = client[\"сума угоди\"]\n",
    "    status = client[\"статус перевірки\"]\n",
    "\n",
    "    # Checkmate\n",
    "    if not isinstance(amount, (int, float)):\n",
    "        category = \"Фальшифкові дані\"\n",
    "    else:\n",
    "        # Clasification by amount\n",
    "        if amount < 100:\n",
    "            category = \"Дрібно\"\n",
    "        elif amount < 1000:\n",
    "            category = \"Середнє\"\n",
    "        else:\n",
    "            category = \"Big Boss\" #Решта\n",
    "\n",
    "    # Status\n",
    "    match status:\n",
    "        case \"clean\":\n",
    "            decision = \"Працювати без питань\"\n",
    "        case \"suspicious\":\n",
    "            decision = \"Перевірити документи\"\n",
    "        case \"fraud\":\n",
    "            decision = \"У чорний список\"\n",
    "        case _:\n",
    "            decision = \"Невідомий статус\"\n",
    "\n",
    "    result.append(f\"{name} → {category}, {decision}\")\n",
    "\n",
    "# result\n",
    "for r in result:\n",
    "    print(r)\n",
    "    "
   ]
  }
 ],
 "metadata": {
  "kernelspec": {
   "display_name": "Python 3",
   "language": "python",
   "name": "python3"
  },
  "language_info": {
   "codemirror_mode": {
    "name": "ipython",
    "version": 3
   },
   "file_extension": ".py",
   "mimetype": "text/x-python",
   "name": "python",
   "nbconvert_exporter": "python",
   "pygments_lexer": "ipython3",
   "version": "3.13.2"
  }
 },
 "nbformat": 4,
 "nbformat_minor": 5
}
