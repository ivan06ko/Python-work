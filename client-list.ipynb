{
 "cells": [
  {
   "cell_type": "code",
   "execution_count": null,
   "id": "a5855b92",
   "metadata": {},
   "outputs": [],
   "source": [
    "# Clients from the anywhere of the different dimenisions\n",
    "\n",
    "clients = [\n",
    "    {\"ім'я\": \"Сетлер\", \"сума угоди\": 50, \"статус перевірки\": \"clean\"},\n",
    "    {\"ім'я\": \"Привид 3ої дивізії\", \"сума угоди\": 700, \"статус перевірки\": \"suspicious\"},\n",
    "    {\"ім'я\": \"Олег\", \"сума угоди\": 1500, \"статус перевірки\": \"fraud\"},\n",
    "    {\"ім'я\": \"Рамштайн\", \"сума угоди\": \"сто\", \"статус перевірки\": \"unknown\"},\n",
    "    {\"ім'я\": \"Іван\", \"сума угоди\": 350, \"статус перевірки\": \"suspicious\"},\n",
    "]\n",
    "\n",
    "result = []\n",
    "\n",
    "for client in clients:\n",
    "    name = client[\"ім'я\"]\n",
    "    amount = client[\"сума угоди\"]\n",
    "    status = client[\"статус перевірки\"]\n",
    "\n",
    "    # Checkmate\n",
    "    if not isinstance(amount, (int, float)):\n",
    "        category = \"Фальшифка\"\n",
    "    else:\n",
    "        # Clasification by amount\n",
    "        if amount < 100:\n",
    "            category = \"Дрібно\"\n",
    "        elif amount < 1000:\n",
    "            category = \"Середнє\"\n",
    "        else:\n",
    "            category = \"Big Boss\"\n",
    "\n",
    "    # Status\n",
    "    match status:\n",
    "        case \"clean\":\n",
    "            decision = \"Працювати без питань\"\n",
    "        case \"suspicious\":\n",
    "            decision = \"Перевірити документи\"\n",
    "        case \"fraud\":\n",
    "            decision = \"У чорний список\"\n",
    "        case _:\n",
    "            decision = \"Невідомий статус\"\n",
    "\n",
    "    result.append(f\"{name} → {category}, {decision}\")\n",
    "\n",
    "# result\n",
    "for r in result:\n",
    "    print(r)"
   ]
  }
 ],
 "metadata": {
  "language_info": {
   "name": "python"
  }
 },
 "nbformat": 4,
 "nbformat_minor": 5
}
