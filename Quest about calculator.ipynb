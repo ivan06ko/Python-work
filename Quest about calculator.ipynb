{
 "cells": [
  {
   "cell_type": "code",
   "execution_count": null,
   "id": "2b9b2fb5",
   "metadata": {},
   "outputs": [],
   "source": [
    "num1 = float(input(\"Вставте перше число: \"))\n",
    "operation = input(\"Вставте операцію (+, -, *, /): \")\n",
    "num2 = float(input(\"Вставте друге число: \"))"
   ]
  }
 ],
 "metadata": {
  "kernelspec": {
   "display_name": "Python 3",
   "language": "python",
   "name": "python3"
  },
  "language_info": {
   "codemirror_mode": {
    "name": "ipython",
    "version": 3
   },
   "file_extension": ".py",
   "mimetype": "text/x-python",
   "name": "python",
   "nbconvert_exporter": "python",
   "pygments_lexer": "ipython3",
   "version": "3.13.2"
  }
 },
 "nbformat": 4,
 "nbformat_minor": 5
}
